{
 "cells": [
  {
   "cell_type": "code",
   "execution_count": 1,
   "metadata": {},
   "outputs": [],
   "source": [
    "#Bibliotecas a importar\n",
    "import numpy as np\n",
    "import math as math"
   ]
  },
  {
   "cell_type": "markdown",
   "metadata": {},
   "source": [
    "### Sesión 4: Valuación de Opciones en tiempo discreto"
   ]
  },
  {
   "cell_type": "code",
   "execution_count": 69,
   "metadata": {},
   "outputs": [],
   "source": [
    "#t_op: Tipo de opcion\n",
    "# 1: Opción europea tipo call\n",
    "# 2: Opción europea tipo put\n",
    "# 3: Opción digital tipo call\n",
    "# 4: Opción digital tipo put\n",
    "t_op = 5\n",
    "T = 1 #Tiempo de vigencia de la opción (en años)\n",
    "r = 0.3 #tasa anual libre de riesgo\n",
    "k = 4 #Precio strike. Funciona como el salto en el caso de las digitales\n",
    "S_0 = 4 #Precio del subyacente a t=0\n",
    "n = 3 #Particiones del árbol\n",
    "\n",
    "u = 2 #Factor de aumento en el precio\n",
    "d = 0.5 #Factor de disminución de precio"
   ]
  },
  {
   "cell_type": "markdown",
   "metadata": {},
   "source": [
    "# Probabilidad en la medida libre de riesgo"
   ]
  },
  {
   "cell_type": "code",
   "execution_count": 70,
   "metadata": {},
   "outputs": [
    {
     "data": {
      "text/plain": [
       "0.40344727871709846"
      ]
     },
     "execution_count": 70,
     "metadata": {},
     "output_type": "execute_result"
    }
   ],
   "source": [
    "delta_t = T / n\n",
    "p = (math.exp(r * delta_t) - d) / (u - d) #Probabilidad de aumento en el precio\n",
    "p"
   ]
  },
  {
   "cell_type": "markdown",
   "metadata": {},
   "source": [
    "# ESTO ES NOMAS PAL EJEMPLO X2"
   ]
  },
  {
   "cell_type": "code",
   "execution_count": 71,
   "metadata": {},
   "outputs": [],
   "source": [
    "p=1/2"
   ]
  },
  {
   "cell_type": "markdown",
   "metadata": {},
   "source": [
    "## Construcción del árbol"
   ]
  },
  {
   "cell_type": "markdown",
   "metadata": {},
   "source": [
    "### Subyacente"
   ]
  },
  {
   "cell_type": "markdown",
   "metadata": {},
   "source": [
    "Valor en el primer paso"
   ]
  },
  {
   "cell_type": "code",
   "execution_count": 28,
   "metadata": {},
   "outputs": [
    {
     "data": {
      "text/plain": [
       "array([[4., 0., 0., 0.],\n",
       "       [0., 0., 0., 0.],\n",
       "       [0., 0., 0., 0.],\n",
       "       [0., 0., 0., 0.]])"
      ]
     },
     "execution_count": 28,
     "metadata": {},
     "output_type": "execute_result"
    }
   ],
   "source": [
    "#Matriz que almacena los valores del subyacente\n",
    "arbol = np.zeros((n + 1, n + 1))\n",
    "#El primer valor de la matriz es el subyacente a precio en t=0\n",
    "arbol[0,0] = S_0\n",
    "arbol #Visualziamos"
   ]
  },
  {
   "cell_type": "markdown",
   "metadata": {},
   "source": [
    "Valor del subyacente en el resto de los pasos"
   ]
  },
  {
   "cell_type": "code",
   "execution_count": 29,
   "metadata": {},
   "outputs": [
    {
     "data": {
      "text/plain": [
       "array([[ 4. ,  8. , 16. , 32. ],\n",
       "       [ 0. ,  2. ,  4. ,  8. ],\n",
       "       [ 0. ,  0. ,  1. ,  2. ],\n",
       "       [ 0. ,  0. ,  0. ,  0.5]])"
      ]
     },
     "execution_count": 29,
     "metadata": {},
     "output_type": "execute_result"
    }
   ],
   "source": [
    "#For para llenar los valores de la matriz\n",
    "for col in range(1, n +1):\n",
    "    for ren in range(0, n +1):\n",
    "        #Condicional para limitar matriz superior triangular\n",
    "        if((col - ren) >= 0):\n",
    "            arbol[ren, col] = S_0 *(( u ** (col - ren)) * (d ** (ren)))\n",
    "arbol #Visualizamos"
   ]
  },
  {
   "cell_type": "markdown",
   "metadata": {},
   "source": [
    "### Payoff"
   ]
  },
  {
   "cell_type": "markdown",
   "metadata": {},
   "source": [
    "Primer paso"
   ]
  },
  {
   "cell_type": "code",
   "execution_count": 38,
   "metadata": {},
   "outputs": [
    {
     "name": "stdout",
     "output_type": "stream",
     "text": [
      "('u', 'u', 'u')\n",
      "('u', 'u', 'd')\n",
      "('u', 'd', 'u')\n",
      "('u', 'd', 'd')\n",
      "('d', 'u', 'u')\n",
      "('d', 'u', 'd')\n",
      "('d', 'd', 'u')\n",
      "('d', 'd', 'd')\n"
     ]
    },
    {
     "data": {
      "text/plain": [
       "array([[ 0. ,  0. ,  0. , 11. ],\n",
       "       [ 0. ,  0. ,  0. ,  5. ],\n",
       "       [ 0. ,  0. ,  0. ,  2. ],\n",
       "       [ 0. ,  0. ,  0. ,  0.5],\n",
       "       [ 0. ,  0. ,  0. ,  0.5],\n",
       "       [ 0. ,  0. ,  0. ,  0. ],\n",
       "       [ 0. ,  0. ,  0. ,  0. ],\n",
       "       [ 0. ,  0. ,  0. ,  0. ]])"
      ]
     },
     "execution_count": 38,
     "metadata": {},
     "output_type": "execute_result"
    }
   ],
   "source": [
    "#Matriz que almacena el valor de los payoffs\n",
    "payoffs = np.zeros((n+1, n+1))\n",
    "#Sobreescribimos la última columna de la matriz de PAYOFSS\n",
    "#IMPORTANTE: Agregar condicional para el caso del put (este es el caso particular del call)\n",
    "if t_op==1:\n",
    "    for ren in range(0, n+1):\n",
    "        payoffs[ren, n] = max(arbol[ren, n] - k, 0)\n",
    "elif t_op==2:\n",
    "    for ren in range(0, n+1):\n",
    "        payoffs[ren, n] = max(k-arbol[ren, n] , 0)\n",
    "elif t_op==3:\n",
    "    for ren in range(0, n+1):\n",
    "        if (arbol[ren, n] > S_0):\n",
    "            payoffs[ren, n] = k\n",
    "        else:\n",
    "            base[ren, n] = 0\n",
    "elif t_op==4:\n",
    "    for ren in range(0, n+1):\n",
    "        if (arbol[ren, n] < S_0):\n",
    "            payoffs[ren, n] = k\n",
    "        else:\n",
    "            payoffs[ren, n] = 0\n",
    "elif t_op==5:\n",
    "    payoffs=np.zeros((2**n, n+1))\n",
    "    up_down=list(itertools.product(['u','d'],repeat=n))\n",
    "    for ren in range(0,2**n):\n",
    "        pos=up_down[ren]\n",
    "        suma=S_0\n",
    "        bajas=0\n",
    "        for i in range(0,n):\n",
    "            if(pos[i]=='d'):\n",
    "                bajas=bajas+1\n",
    "            suma=suma+arbol[bajas,(i+1)]\n",
    "        payoffs[ren,n]=max((suma/(n+1))-k,0)\n",
    "        print(pos)\n",
    "payoffs #Visualizamos"
   ]
  },
  {
   "cell_type": "markdown",
   "metadata": {},
   "source": [
    "Valuamos backwards"
   ]
  },
  {
   "cell_type": "code",
   "execution_count": 56,
   "metadata": {},
   "outputs": [
    {
     "data": {
      "text/plain": [
       "array([[ 1.75944327,  3.78662973,  7.23869934, 11.        ],\n",
       "       [ 0.        ,  0.10234134,  1.13104677,  5.        ],\n",
       "       [ 0.        ,  0.        ,  0.22620935,  2.        ],\n",
       "       [ 0.        ,  0.        ,  0.        ,  0.5       ],\n",
       "       [ 0.        ,  0.        ,  0.        ,  0.5       ],\n",
       "       [ 0.        ,  0.        ,  0.        ,  0.        ],\n",
       "       [ 0.        ,  0.        ,  0.        ,  0.        ],\n",
       "       [ 0.        ,  0.        ,  0.        ,  0.        ]])"
      ]
     },
     "execution_count": 56,
     "metadata": {},
     "output_type": "execute_result"
    }
   ],
   "source": [
    "#Sobreescribimos matriz de payoffs mediante el método iterativo\n",
    "for i in range(1, n + 1):\n",
    "    col = n - i\n",
    "    for j in range(0, col +1): \n",
    "        payoffs[j, col] = math.exp(-r * delta_t) * (p * payoffs[2*j, col + 1] + (1 - p)*payoffs[2*j +1, col +1])\n",
    "payoffs"
   ]
  },
  {
   "cell_type": "markdown",
   "metadata": {},
   "source": [
    "# ESTO ES NOMAS PAL EJEMPLO"
   ]
  },
  {
   "cell_type": "code",
   "execution_count": 57,
   "metadata": {},
   "outputs": [
    {
     "data": {
      "text/plain": [
       "array([[ 0.07247925,  0.45166016,  2.5       , 11.        ],\n",
       "       [ 0.        ,  0.01220703,  0.390625  ,  5.        ],\n",
       "       [ 0.        ,  0.        ,  0.078125  ,  2.        ],\n",
       "       [ 0.        ,  0.        ,  0.        ,  0.5       ],\n",
       "       [ 0.        ,  0.        ,  0.        ,  0.5       ],\n",
       "       [ 0.        ,  0.        ,  0.        ,  0.        ],\n",
       "       [ 0.        ,  0.        ,  0.        ,  0.        ],\n",
       "       [ 0.        ,  0.        ,  0.        ,  0.        ]])"
      ]
     },
     "execution_count": 57,
     "metadata": {},
     "output_type": "execute_result"
    }
   ],
   "source": [
    "#Sobreescribimos matriz de payoffs mediante el método iterativo\n",
    "for i in range(1, n + 1):\n",
    "    col = n - i\n",
    "    for j in range(0, col +1): \n",
    "        payoffs[j, col] = 5/16 * (p * payoffs[2*j, col + 1] + (1 - p)*payoffs[2*j +1, col +1])\n",
    "payoffs"
   ]
  },
  {
   "cell_type": "markdown",
   "metadata": {},
   "source": [
    "## Valor de la opción"
   ]
  },
  {
   "cell_type": "code",
   "execution_count": 8,
   "metadata": {},
   "outputs": [
    {
     "data": {
      "text/plain": [
       "39.893012466730006"
      ]
     },
     "execution_count": 8,
     "metadata": {},
     "output_type": "execute_result"
    }
   ],
   "source": [
    "payoffs[0,0]"
   ]
  },
  {
   "cell_type": "markdown",
   "metadata": {},
   "source": [
    "## Composición del portafolio"
   ]
  },
  {
   "cell_type": "markdown",
   "metadata": {},
   "source": [
    "alfas"
   ]
  },
  {
   "cell_type": "code",
   "execution_count": 9,
   "metadata": {},
   "outputs": [
    {
     "data": {
      "text/plain": [
       "array([[0.77885338, 1.        , 1.        ],\n",
       "       [0.        , 0.58603981, 1.        ],\n",
       "       [0.        , 0.        , 0.22511574]])"
      ]
     },
     "execution_count": 9,
     "metadata": {},
     "output_type": "execute_result"
    }
   ],
   "source": [
    "#Matriz que almacena los valores de las alfas\n",
    "alfas = np.zeros((n, n ))\n",
    "for ren in range(0,n):\n",
    "    for col in range(0, n):\n",
    "        #Condicional para limitar matriz superior triangular\n",
    "        if((col - ren) >= 0):\n",
    "            alfas[ren,col]=(payoffs[ren,col+1]-payoffs[ren+1,col+1])/(arbol[ren,col+1]-arbol[ren+1,col+1])\n",
    "alfas #Visualizamos"
   ]
  },
  {
   "cell_type": "markdown",
   "metadata": {},
   "source": [
    "Betas"
   ]
  },
  {
   "cell_type": "code",
   "execution_count": 10,
   "metadata": {},
   "outputs": [
    {
     "data": {
      "text/plain": [
       "array([[ -53.5693926 , -101.99585022, -108.30292136],\n",
       "       [   0.        ,  -38.37183662, -108.30292136],\n",
       "       [   0.        ,    0.        ,  -13.0256499 ]])"
      ]
     },
     "execution_count": 10,
     "metadata": {},
     "output_type": "execute_result"
    }
   ],
   "source": [
    "#Matriz que almacena los valores de las alfas\n",
    "betas = np.zeros((n, n ))\n",
    "for ren in range(0,n):\n",
    "    for col in range(0, n):\n",
    "        #Condicional para limitar matriz superior triangular\n",
    "        if((col - ren) >= 0):\n",
    "            betas[ren,col]=math.exp(-r * delta_t)*(payoffs[ren,col+1]-((payoffs[ren,col+1]-payoffs[ren+1,col+1])*arbol[ren,col+1])/(arbol[ren,col+1]-arbol[ren+1,col+1]))\n",
    "betas #Visualizamos"
   ]
  },
  {
   "cell_type": "markdown",
   "metadata": {},
   "source": [
    "# Opciones asiáticas"
   ]
  },
  {
   "cell_type": "code",
   "execution_count": 3,
   "metadata": {},
   "outputs": [
    {
     "name": "stdout",
     "output_type": "stream",
     "text": [
      "ERROR: unknown command \"-\"\n",
      "Note: you may need to restart the kernel to use updated packages.\n"
     ]
    }
   ],
   "source": [
    "pip- install itertools"
   ]
  },
  {
   "cell_type": "code",
   "execution_count": 4,
   "metadata": {},
   "outputs": [
    {
     "name": "stdout",
     "output_type": "stream",
     "text": [
      "\u001b[31mERROR: Could not find a version that satisfies the requirement itertools (from versions: none)\u001b[0m\n",
      "\u001b[31mERROR: No matching distribution found for itertools\u001b[0m\n",
      "Note: you may need to restart the kernel to use updated packages.\n"
     ]
    }
   ],
   "source": [
    "pip install itertools"
   ]
  },
  {
   "cell_type": "code",
   "execution_count": 5,
   "metadata": {},
   "outputs": [],
   "source": [
    "import itertools"
   ]
  },
  {
   "cell_type": "code",
   "execution_count": 14,
   "metadata": {},
   "outputs": [
    {
     "data": {
      "text/plain": [
       "[('u', 'u', 'u'),\n",
       " ('u', 'u', 'd'),\n",
       " ('u', 'd', 'u'),\n",
       " ('u', 'd', 'd'),\n",
       " ('d', 'u', 'u'),\n",
       " ('d', 'u', 'd'),\n",
       " ('d', 'd', 'u'),\n",
       " ('d', 'd', 'd')]"
      ]
     },
     "execution_count": 14,
     "metadata": {},
     "output_type": "execute_result"
    }
   ],
   "source": [
    "a=list(itertools.product(['u','d'],repeat=3))\n",
    "a"
   ]
  },
  {
   "cell_type": "code",
   "execution_count": 22,
   "metadata": {},
   "outputs": [
    {
     "data": {
      "text/plain": [
       "['u', 'u', 'u']"
      ]
     },
     "execution_count": 22,
     "metadata": {},
     "output_type": "execute_result"
    }
   ],
   "source": [
    "list(a[0])"
   ]
  },
  {
   "cell_type": "code",
   "execution_count": 13,
   "metadata": {},
   "outputs": [
    {
     "data": {
      "text/plain": [
       "'u'"
      ]
     },
     "execution_count": 13,
     "metadata": {},
     "output_type": "execute_result"
    }
   ],
   "source": [
    "a[0][0]"
   ]
  },
  {
   "cell_type": "code",
   "execution_count": 16,
   "metadata": {},
   "outputs": [
    {
     "data": {
      "text/plain": [
       "array([[0., 0., 0., 0.],\n",
       "       [0., 0., 0., 0.]])"
      ]
     },
     "execution_count": 16,
     "metadata": {},
     "output_type": "execute_result"
    }
   ],
   "source": [
    "np.zeros((2,2**2))"
   ]
  },
  {
   "cell_type": "code",
   "execution_count": 23,
   "metadata": {},
   "outputs": [
    {
     "name": "stdout",
     "output_type": "stream",
     "text": [
      "0\n",
      "1\n"
     ]
    }
   ],
   "source": [
    "for i in range(0,2):\n",
    "    print(i)"
   ]
  },
  {
   "cell_type": "code",
   "execution_count": 34,
   "metadata": {},
   "outputs": [],
   "source": [
    "a=[[0,['u','d']]]"
   ]
  },
  {
   "cell_type": "code",
   "execution_count": 35,
   "metadata": {},
   "outputs": [
    {
     "data": {
      "text/plain": [
       "[[0, ['u', 'd']]]"
      ]
     },
     "execution_count": 35,
     "metadata": {},
     "output_type": "execute_result"
    }
   ],
   "source": [
    "a"
   ]
  },
  {
   "cell_type": "code",
   "execution_count": null,
   "metadata": {},
   "outputs": [],
   "source": []
  }
 ],
 "metadata": {
  "kernelspec": {
   "display_name": "Python 3",
   "language": "python",
   "name": "python3"
  },
  "language_info": {
   "codemirror_mode": {
    "name": "ipython",
    "version": 3
   },
   "file_extension": ".py",
   "mimetype": "text/x-python",
   "name": "python",
   "nbconvert_exporter": "python",
   "pygments_lexer": "ipython3",
   "version": "3.8.5"
  },
  "metadata": {
   "interpreter": {
    "hash": "7812ea015bdcee6f23a998adcdd2ef97c151c0c241b7b7070987d9313e41299d"
   }
  }
 },
 "nbformat": 4,
 "nbformat_minor": 4
}
