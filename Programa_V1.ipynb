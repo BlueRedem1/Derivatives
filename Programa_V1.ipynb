{
 "cells": [
  {
   "cell_type": "code",
   "execution_count": 1,
   "metadata": {},
   "outputs": [],
   "source": [
    "#Bibliotecas a importar\n",
    "import numpy as np\n",
    "import math as math"
   ]
  },
  {
   "source": [
    "### Sesión 4: Valuación de Opciones en tiempo discreto"
   ],
   "cell_type": "markdown",
   "metadata": {}
  },
  {
   "cell_type": "code",
   "execution_count": 2,
   "metadata": {},
   "outputs": [],
   "source": [
    "#t_op: Tipo de opcion\n",
    "# 1: Opción europea tipo call\n",
    "# 2: Opción europea tipo put\n",
    "# 3: Opción digital tipo call\n",
    "# 4: Opción digital tipo put\n",
    "t_op = 1\n",
    "T = 3 #Tiempo de vigencia de la opción (en años)\n",
    "r = 0.06 #tasa anual libre de riesgo\n",
    "k = 115 #Precio strike. Funciona como el salto en el caso de las digitales\n",
    "S_0 = 120 #Precio del subyacente a t=0\n",
    "n = 3 #Particiones del árbol\n",
    "\n",
    "u = 1.7 #Factor de aumento en el precio\n",
    "d = 0.8 #Factor de disminución de precio"
   ]
  },
  {
   "source": [
    "# Probabilidad en la medida libre de riesgo"
   ],
   "cell_type": "markdown",
   "metadata": {}
  },
  {
   "cell_type": "code",
   "execution_count": 3,
   "metadata": {},
   "outputs": [
    {
     "output_type": "execute_result",
     "data": {
      "text/plain": [
       "0.2909294961615107"
      ]
     },
     "metadata": {},
     "execution_count": 3
    }
   ],
   "source": [
    "delta_t = T / n\n",
    "p = (math.exp(r * delta_t) - d) / (u - d) #Probabilidad de aumento en el precio\n",
    "p"
   ]
  },
  {
   "source": [
    "## Construcción del árbol"
   ],
   "cell_type": "markdown",
   "metadata": {}
  },
  {
   "source": [
    "### Subyacente"
   ],
   "cell_type": "markdown",
   "metadata": {}
  },
  {
   "source": [
    "Valor en el primer paso"
   ],
   "cell_type": "markdown",
   "metadata": {}
  },
  {
   "cell_type": "code",
   "execution_count": 4,
   "metadata": {},
   "outputs": [
    {
     "output_type": "execute_result",
     "data": {
      "text/plain": [
       "array([[120.,   0.,   0.,   0.],\n",
       "       [  0.,   0.,   0.,   0.],\n",
       "       [  0.,   0.,   0.,   0.],\n",
       "       [  0.,   0.,   0.,   0.]])"
      ]
     },
     "metadata": {},
     "execution_count": 4
    }
   ],
   "source": [
    "#Matriz que almacena los valores del subyacente\n",
    "arbol = np.zeros((n + 1, n + 1))\n",
    "#El primer valor de la matriz es el subyacente a precio en t=0\n",
    "arbol[0,0] = S_0\n",
    "arbol #Visualziamos"
   ]
  },
  {
   "source": [
    "Valor del subyacente en el resto de los pasos"
   ],
   "cell_type": "markdown",
   "metadata": {}
  },
  {
   "cell_type": "code",
   "execution_count": 5,
   "metadata": {},
   "outputs": [
    {
     "output_type": "execute_result",
     "data": {
      "text/plain": [
       "array([[120.  , 204.  , 346.8 , 589.56],\n",
       "       [  0.  ,  96.  , 163.2 , 277.44],\n",
       "       [  0.  ,   0.  ,  76.8 , 130.56],\n",
       "       [  0.  ,   0.  ,   0.  ,  61.44]])"
      ]
     },
     "metadata": {},
     "execution_count": 5
    }
   ],
   "source": [
    "#For para llenar los valores de la matriz\n",
    "for col in range(1, n +1):\n",
    "    for ren in range(0, n +1):\n",
    "        #Condicional para limitar matriz superior triangular\n",
    "        if((col - ren) >= 0):\n",
    "            arbol[ren, col] = S_0 *(( u ** (col - ren)) * (d ** (ren)))\n",
    "arbol #Visualizamos"
   ]
  },
  {
   "cell_type": "markdown",
   "metadata": {},
   "source": [
    "### Payoff"
   ]
  },
  {
   "source": [
    "Primer paso"
   ],
   "cell_type": "markdown",
   "metadata": {}
  },
  {
   "cell_type": "code",
   "execution_count": 6,
   "metadata": {},
   "outputs": [
    {
     "output_type": "execute_result",
     "data": {
      "text/plain": [
       "array([[  0.  ,   0.  ,   0.  , 474.56],\n",
       "       [  0.  ,   0.  ,   0.  , 162.44],\n",
       "       [  0.  ,   0.  ,   0.  ,  15.56],\n",
       "       [  0.  ,   0.  ,   0.  ,   0.  ]])"
      ]
     },
     "metadata": {},
     "execution_count": 6
    }
   ],
   "source": [
    "#Matriz que almacena el valor de los payoffs\n",
    "payoffs = np.zeros((n+1, n+1))\n",
    "#Sobreescribimos la última columna de la matriz de PAYOFSS\n",
    "#IMPORTANTE: Agregar condicional para el caso del put (este es el caso particular del call)\n",
    "if t_op==1:\n",
    "    for ren in range(0, n+1):\n",
    "        payoffs[ren, n] = max(arbol[ren, n] - k, 0)\n",
    "elif t_op==2:\n",
    "    for ren in range(0, n+1):\n",
    "        payoffs[ren, n] = max(k-arbol[ren, n] , 0)\n",
    "elif t_op==3:\n",
    "    for ren in range(0, n+1):\n",
    "        if (arbol[ren, n] > S_0):\n",
    "            payoffs[ren, n] = k\n",
    "        else:\n",
    "            base[ren, n] = 0\n",
    "elif t_op==4:\n",
    "    for ren in range(0, n+1):\n",
    "        if (arbol[ren, n] < S_0):\n",
    "            payoffs[ren, n] = k\n",
    "        else:\n",
    "            payoffs[ren, n] = 0\n",
    "payoffs #Visualizamos"
   ]
  },
  {
   "source": [
    "Valuamos backwards"
   ],
   "cell_type": "markdown",
   "metadata": {}
  },
  {
   "cell_type": "code",
   "execution_count": 7,
   "metadata": {},
   "outputs": [
    {
     "output_type": "execute_result",
     "data": {
      "text/plain": [
       "array([[ 39.89301247, 102.00414978, 238.49707864, 474.56      ],\n",
       "       [  0.        ,  17.88798521,  54.89707864, 162.44      ],\n",
       "       [  0.        ,   0.        ,   4.26323898,  15.56      ],\n",
       "       [  0.        ,   0.        ,   0.        ,   0.        ]])"
      ]
     },
     "metadata": {},
     "execution_count": 7
    }
   ],
   "source": [
    "#Sobreescribimos matriz de payoffs mediante el método iterativo\n",
    "for i in range(1, n + 1):\n",
    "    col = n - i\n",
    "    for j in range(0, col +1): \n",
    "        payoffs[j, col] = math.exp(-r * delta_t) * (p * payoffs[j, col + 1] + (1 - p)*payoffs[j +1, col +1])\n",
    "payoffs"
   ]
  },
  {
   "source": [
    "## Valor de la opción"
   ],
   "cell_type": "markdown",
   "metadata": {}
  },
  {
   "cell_type": "code",
   "execution_count": 8,
   "metadata": {},
   "outputs": [
    {
     "output_type": "execute_result",
     "data": {
      "text/plain": [
       "39.893012466730006"
      ]
     },
     "metadata": {},
     "execution_count": 8
    }
   ],
   "source": [
    "payoffs[0,0]"
   ]
  },
  {
   "source": [
    "## Composición del portafolio"
   ],
   "cell_type": "markdown",
   "metadata": {}
  },
  {
   "source": [
    "alfas"
   ],
   "cell_type": "markdown",
   "metadata": {}
  },
  {
   "cell_type": "code",
   "execution_count": 9,
   "metadata": {},
   "outputs": [
    {
     "output_type": "execute_result",
     "data": {
      "text/plain": [
       "array([[0.77885338, 1.        , 1.        ],\n",
       "       [0.        , 0.58603981, 1.        ],\n",
       "       [0.        , 0.        , 0.22511574]])"
      ]
     },
     "metadata": {},
     "execution_count": 9
    }
   ],
   "source": [
    "#Matriz que almacena los valores de las alfas\n",
    "alfas = np.zeros((n, n ))\n",
    "for ren in range(0,n):\n",
    "    for col in range(0, n):\n",
    "        #Condicional para limitar matriz superior triangular\n",
    "        if((col - ren) >= 0):\n",
    "            alfas[ren,col]=(payoffs[ren,col+1]-payoffs[ren+1,col+1])/(arbol[ren,col+1]-arbol[ren+1,col+1])\n",
    "alfas #Visualizamos"
   ]
  },
  {
   "source": [
    "Betas"
   ],
   "cell_type": "markdown",
   "metadata": {}
  },
  {
   "cell_type": "code",
   "execution_count": 10,
   "metadata": {},
   "outputs": [
    {
     "output_type": "execute_result",
     "data": {
      "text/plain": [
       "array([[ -53.5693926 , -101.99585022, -108.30292136],\n",
       "       [   0.        ,  -38.37183662, -108.30292136],\n",
       "       [   0.        ,    0.        ,  -13.0256499 ]])"
      ]
     },
     "metadata": {},
     "execution_count": 10
    }
   ],
   "source": [
    "#Matriz que almacena los valores de las alfas\n",
    "betas = np.zeros((n, n ))\n",
    "for ren in range(0,n):\n",
    "    for col in range(0, n):\n",
    "        #Condicional para limitar matriz superior triangular\n",
    "        if((col - ren) >= 0):\n",
    "            betas[ren,col]=math.exp(-r * delta_t)*(payoffs[ren,col+1]-((payoffs[ren,col+1]-payoffs[ren+1,col+1])*arbol[ren,col+1])/(arbol[ren,col+1]-arbol[ren+1,col+1]))\n",
    "betas #Visualizamos"
   ]
  },
  {
   "cell_type": "code",
   "execution_count": null,
   "metadata": {},
   "outputs": [],
   "source": []
  }
 ],
 "metadata": {
  "kernelspec": {
   "name": "python385jvsc74a57bd0cac8cd8a253168e2ffccb0b2d0c1b5715a7343189897ae3f43e03eb6f7cf2674",
   "display_name": "Python 3.8.5 64-bit ('base': conda)"
  },
  "language_info": {
   "codemirror_mode": {
    "name": "ipython",
    "version": 3
   },
   "file_extension": ".py",
   "mimetype": "text/x-python",
   "name": "python",
   "nbconvert_exporter": "python",
   "pygments_lexer": "ipython3",
   "version": "3.8.5"
  },
  "metadata": {
   "interpreter": {
    "hash": "7812ea015bdcee6f23a998adcdd2ef97c151c0c241b7b7070987d9313e41299d"
   }
  }
 },
 "nbformat": 4,
 "nbformat_minor": 4
}