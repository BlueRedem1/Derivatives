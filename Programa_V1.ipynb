{
 "cells": [
  {
   "cell_type": "code",
   "execution_count": 6,
   "metadata": {},
   "outputs": [],
   "source": [
    "#Bibliotecas a importar\n",
    "import numpy as np\n",
    "import math as math\n",
    "import itertools"
   ]
  },
  {
   "cell_type": "markdown",
   "metadata": {},
   "source": [
    "### Sesión 4: Valuación de Opciones en tiempo discreto"
   ]
  },
  {
   "cell_type": "code",
   "execution_count": 11,
   "metadata": {},
   "outputs": [],
   "source": [
    "#t_op: Tipo de opcion\n",
    "# 1: Opción europea tipo call\n",
    "# 2: Opción europea tipo put\n",
    "# 3: Opción digital tipo call\n",
    "# 4: Opción digital tipo put\n",
    "# 5: Opción asiática\n",
    "# 6: Opción lookback\n",
    "t_op = 6\n",
    "T = 1/4 #Tiempo de vigencia de la opción (en años)\n",
    "r = 0.05 #tasa anual libre de riesgo\n",
    "k = 4 #Precio strike. Funciona como el salto en el caso de las digitales\n",
    "S_0 = 100 #Precio del subyacente a t=0\n",
    "n = 3 #Particiones del árbol\n",
    "\n",
    "u = 1.2 #Factor de aumento en el precio\n",
    "d = 0.9 #Factor de disminución de precio"
   ]
  },
  {
   "cell_type": "markdown",
   "metadata": {},
   "source": [
    "# Probabilidad en la medida libre de riesgo"
   ]
  },
  {
   "cell_type": "code",
   "execution_count": 12,
   "metadata": {},
   "outputs": [
    {
     "data": {
      "text/plain": [
       "0.3472511976370615"
      ]
     },
     "execution_count": 12,
     "metadata": {},
     "output_type": "execute_result"
    }
   ],
   "source": [
    "delta_t = T / n\n",
    "p = (math.exp(r * delta_t) - d) / (u - d) #Probabilidad de aumento en el precio\n",
    "p"
   ]
  },
  {
   "cell_type": "markdown",
   "metadata": {},
   "source": [
    "# ESTO ES NOMAS PAL EJEMPLO X2"
   ]
  },
  {
   "cell_type": "code",
   "execution_count": 40,
   "metadata": {},
   "outputs": [],
   "source": [
    "p=1/2"
   ]
  },
  {
   "cell_type": "markdown",
   "metadata": {},
   "source": [
    "## Construcción del árbol"
   ]
  },
  {
   "cell_type": "markdown",
   "metadata": {},
   "source": [
    "### Subyacente"
   ]
  },
  {
   "cell_type": "markdown",
   "metadata": {},
   "source": [
    "Valor en el primer paso"
   ]
  },
  {
   "cell_type": "code",
   "execution_count": 13,
   "metadata": {},
   "outputs": [
    {
     "data": {
      "text/plain": [
       "array([[100.,   0.,   0.,   0.],\n",
       "       [  0.,   0.,   0.,   0.],\n",
       "       [  0.,   0.,   0.,   0.],\n",
       "       [  0.,   0.,   0.,   0.]])"
      ]
     },
     "execution_count": 13,
     "metadata": {},
     "output_type": "execute_result"
    }
   ],
   "source": [
    "#Matriz que almacena los valores del subyacente\n",
    "arbol = np.zeros((n + 1, n + 1))\n",
    "#El primer valor de la matriz es el subyacente a precio en t=0\n",
    "arbol[0,0] = S_0\n",
    "arbol #Visualziamos"
   ]
  },
  {
   "cell_type": "markdown",
   "metadata": {},
   "source": [
    "Valor del subyacente en el resto de los pasos"
   ]
  },
  {
   "cell_type": "code",
   "execution_count": 14,
   "metadata": {},
   "outputs": [
    {
     "data": {
      "text/plain": [
       "array([[100. , 120. , 144. , 172.8],\n",
       "       [  0. ,  90. , 108. , 129.6],\n",
       "       [  0. ,   0. ,  81. ,  97.2],\n",
       "       [  0. ,   0. ,   0. ,  72.9]])"
      ]
     },
     "execution_count": 14,
     "metadata": {},
     "output_type": "execute_result"
    }
   ],
   "source": [
    "#For para llenar los valores de la matriz\n",
    "for col in range(1, n +1):\n",
    "    for ren in range(0, n +1):\n",
    "        #Condicional para limitar matriz superior triangular\n",
    "        if((col - ren) >= 0):\n",
    "            arbol[ren, col] = S_0 *(( u ** (col - ren)) * (d ** (ren)))\n",
    "arbol #Visualizamos"
   ]
  },
  {
   "cell_type": "markdown",
   "metadata": {},
   "source": [
    "### Payoff"
   ]
  },
  {
   "cell_type": "markdown",
   "metadata": {},
   "source": [
    "Primer paso"
   ]
  },
  {
   "cell_type": "code",
   "execution_count": 15,
   "metadata": {},
   "outputs": [
    {
     "data": {
      "text/plain": [
       "array([[  0. ,   0. ,   0. , 172.8],\n",
       "       [  0. ,   0. ,   0. , 144. ],\n",
       "       [  0. ,   0. ,   0. , 129.6],\n",
       "       [  0. ,   0. ,   0. , 120. ],\n",
       "       [  0. ,   0. ,   0. , 129.6],\n",
       "       [  0. ,   0. ,   0. , 108. ],\n",
       "       [  0. ,   0. ,   0. , 100. ],\n",
       "       [  0. ,   0. ,   0. , 100. ]])"
      ]
     },
     "execution_count": 15,
     "metadata": {},
     "output_type": "execute_result"
    }
   ],
   "source": [
    "#Matriz que almacena el valor de los payoffs\n",
    "payoffs = np.zeros((n+1, n+1))\n",
    "#Sobreescribimos la última columna de la matriz de PAYOFSS\n",
    "#IMPORTANTE: Agregar condicional para el caso del put (este es el caso particular del call)\n",
    "if t_op==1:\n",
    "    for ren in range(0, n+1):\n",
    "        payoffs[ren, n] = max(arbol[ren, n] - k, 0)\n",
    "elif t_op==2:\n",
    "    for ren in range(0, n+1):\n",
    "        payoffs[ren, n] = max(k-arbol[ren, n] , 0)\n",
    "elif t_op==3:\n",
    "    for ren in range(0, n+1):\n",
    "        if (arbol[ren, n] > S_0):\n",
    "            payoffs[ren, n] = k\n",
    "        else:\n",
    "            base[ren, n] = 0\n",
    "elif t_op==4:\n",
    "    for ren in range(0, n+1):\n",
    "        if (arbol[ren, n] < S_0):\n",
    "            payoffs[ren, n] = k\n",
    "        else:\n",
    "            payoffs[ren, n] = 0\n",
    "elif t_op==5:\n",
    "    payoffs=np.zeros((2**n, n+1))\n",
    "    up_down=list(itertools.product(['u','d'],repeat=n))\n",
    "    for ren in range(0,2**n):\n",
    "        pos=up_down[ren]\n",
    "        suma=S_0\n",
    "        bajas=0\n",
    "        for i in range(0,n):\n",
    "            if(pos[i]=='d'):\n",
    "                bajas=bajas+1\n",
    "            suma=suma+arbol[bajas,(i+1)]\n",
    "        payoffs[ren,n]=max((suma/(n+1))-k,0)\n",
    "elif t_op==6:\n",
    "    payoffs=np.zeros((2**n, n+1))\n",
    "    up_down=list(itertools.product(['u','d'],repeat=n))\n",
    "    for ren in range(0,2**n):\n",
    "        pos=up_down[ren]\n",
    "        valores=np.zeros(n+1)\n",
    "        valores[0]=S_0\n",
    "        bajas=0\n",
    "        for i in range(0,n):\n",
    "            if(pos[i]=='d'):\n",
    "                bajas=bajas+1\n",
    "            valores[i+1]=arbol[bajas,(i+1)]\n",
    "        payoffs[ren,n]=max(valores)\n",
    "payoffs #Visualizamos"
   ]
  },
  {
   "cell_type": "markdown",
   "metadata": {},
   "source": [
    "Valuamos backwards"
   ]
  },
  {
   "cell_type": "code",
   "execution_count": 16,
   "metadata": {},
   "outputs": [
    {
     "data": {
      "text/plain": [
       "array([[113.88162075, 132.87095702, 153.36049931, 172.8       ],\n",
       "       [  0.        , 104.50807145, 122.82079057, 144.        ],\n",
       "       [  0.        ,   0.        , 115.02037448, 129.6       ],\n",
       "       [  0.        ,   0.        ,  99.58420018, 120.        ],\n",
       "       [  0.        ,   0.        ,   0.        , 129.6       ],\n",
       "       [  0.        ,   0.        ,   0.        , 108.        ],\n",
       "       [  0.        ,   0.        ,   0.        , 100.        ],\n",
       "       [  0.        ,   0.        ,   0.        , 100.        ]])"
      ]
     },
     "execution_count": 16,
     "metadata": {},
     "output_type": "execute_result"
    }
   ],
   "source": [
    "#Sobreescribimos matriz de payoffs mediante el método iterativo\n",
    "if(t_op!=5):\n",
    "    for i in range(1, n + 1):\n",
    "        col = n - i\n",
    "        for j in range(0, col +1):\n",
    "            payoffs[j, col] = math.exp(-r * delta_t) * (p * payoffs[j, col + 1] + (1 - p)*payoffs[j +1, col +1])\n",
    "\n",
    "if(t_op==5 or t_op==6):\n",
    "    for i in range(1, n+1):\n",
    "        col = n - i\n",
    "        for j in range(0, 2**col):\n",
    "            payoffs[j, col] = math.exp(-r * delta_t) * (p * payoffs[2*j, col + 1] + (1 - p)*payoffs[2*j +1, col +1])\n",
    "    arbol_aux=np.zeros((2**n, n+1))\n",
    "    for col in range(0,n+1):\n",
    "        if(col==0):\n",
    "            arbol_aux[0,0]=S_0\n",
    "        else:\n",
    "            up_down=list(itertools.product(['u','d'],repeat=col))\n",
    "            for ren in range(0,2**col):\n",
    "                bajas=0\n",
    "                pos=up_down[ren]\n",
    "                for letter in pos:\n",
    "                    if (letter=='d'):\n",
    "                        bajas=bajas+1\n",
    "                arbol_aux[ren,col]=S_0*(u**(col-bajas))*d**(bajas)\n",
    "payoffs #visualizamos"
   ]
  },
  {
   "cell_type": "code",
   "execution_count": 17,
   "metadata": {},
   "outputs": [
    {
     "data": {
      "text/plain": [
       "array([[100. , 120. , 144. , 172.8],\n",
       "       [  0. ,  90. , 108. , 129.6],\n",
       "       [  0. ,   0. , 108. , 129.6],\n",
       "       [  0. ,   0. ,  81. ,  97.2],\n",
       "       [  0. ,   0. ,   0. , 129.6],\n",
       "       [  0. ,   0. ,   0. ,  97.2],\n",
       "       [  0. ,   0. ,   0. ,  97.2],\n",
       "       [  0. ,   0. ,   0. ,  72.9]])"
      ]
     },
     "execution_count": 17,
     "metadata": {},
     "output_type": "execute_result"
    }
   ],
   "source": [
    "arbol_aux"
   ]
  },
  {
   "cell_type": "markdown",
   "metadata": {},
   "source": [
    "# ESTO ES NOMAS PAL EJEMPLO"
   ]
  },
  {
   "cell_type": "code",
   "execution_count": 46,
   "metadata": {},
   "outputs": [
    {
     "data": {
      "text/plain": [
       "array([[ 0.07247925,  0.45166016,  2.5       , 11.        ],\n",
       "       [ 0.        ,  0.01220703,  0.390625  ,  5.        ],\n",
       "       [ 0.        ,  0.        ,  0.078125  ,  2.        ],\n",
       "       [ 0.        ,  0.        ,  0.        ,  0.5       ],\n",
       "       [ 0.        ,  0.        ,  0.        ,  0.5       ],\n",
       "       [ 0.        ,  0.        ,  0.        ,  0.        ],\n",
       "       [ 0.        ,  0.        ,  0.        ,  0.        ],\n",
       "       [ 0.        ,  0.        ,  0.        ,  0.        ]])"
      ]
     },
     "execution_count": 46,
     "metadata": {},
     "output_type": "execute_result"
    }
   ],
   "source": [
    "#Sobreescribimos matriz de payoffs mediante el método iterativo\n",
    "for i in range(1, n + 1):\n",
    "    col = n - i\n",
    "    for j in range(0, 2**col): \n",
    "        payoffs[j, col] = 5/16 * (p * payoffs[2*j, col + 1] + (1 - p)*payoffs[2*j +1, col +1])\n",
    "payoffs"
   ]
  },
  {
   "cell_type": "markdown",
   "metadata": {},
   "source": [
    "## Valor de la opción"
   ]
  },
  {
   "cell_type": "code",
   "execution_count": 18,
   "metadata": {},
   "outputs": [
    {
     "data": {
      "text/plain": [
       "113.88162074761169"
      ]
     },
     "execution_count": 18,
     "metadata": {},
     "output_type": "execute_result"
    }
   ],
   "source": [
    "payoffs[0,0]"
   ]
  },
  {
   "cell_type": "markdown",
   "metadata": {},
   "source": [
    "## Composición del portafolio"
   ]
  },
  {
   "cell_type": "markdown",
   "metadata": {},
   "source": [
    "alfas"
   ]
  },
  {
   "cell_type": "code",
   "execution_count": 19,
   "metadata": {},
   "outputs": [
    {
     "data": {
      "text/plain": [
       "array([[0.94542952, 0.84832524, 0.66666667],\n",
       "       [0.        , 0.57171016, 0.2962963 ],\n",
       "       [0.        , 0.        , 0.66666667],\n",
       "       [0.        , 0.        , 0.        ],\n",
       "       [0.        , 0.        , 0.        ],\n",
       "       [0.        , 0.        , 0.        ],\n",
       "       [0.        , 0.        , 0.        ],\n",
       "       [0.        , 0.        , 0.        ]])"
      ]
     },
     "execution_count": 19,
     "metadata": {},
     "output_type": "execute_result"
    }
   ],
   "source": [
    "#Matriz que almacena los valores de las alfas\n",
    "alfas = np.zeros((n, n ))\n",
    "if(t_op!=5):\n",
    "    for ren in range(0,n):\n",
    "        for col in range(0, n):\n",
    "            #Condicional para limitar matriz superior triangular\n",
    "            if((col - ren) >= 0):\n",
    "                alfas[ren,col]=(payoffs[ren,col+1]-payoffs[ren+1,col+1])/(arbol[ren,col+1]-arbol[ren+1,col+1])\n",
    "if(t_op==5 or t_op==6):\n",
    "    alfas = np.zeros((2**n, n))\n",
    "    for col in range(0,n):\n",
    "    #Condicional para limitar matriz superior triangular\n",
    "        for ren in range(0, 2**col):\n",
    "            alfas[ren,col]=(payoffs[2*ren,col+1]-payoffs[2*ren+1,col+1])/(arbol_aux[2*ren,col+1]-arbol_aux[2*ren+1,col+1])\n",
    "alfas #Visualizamos"
   ]
  },
  {
   "cell_type": "markdown",
   "metadata": {},
   "source": [
    "Betas"
   ]
  },
  {
   "cell_type": "code",
   "execution_count": 20,
   "metadata": {},
   "outputs": [
    {
     "data": {
      "text/plain": [
       "array([[19.33866885, 31.07192789, 57.36049931],\n",
       "       [ 0.        , 53.05415713, 90.82079057],\n",
       "       [ 0.        ,  0.        , 43.02037448],\n",
       "       [ 0.        ,  0.        , 99.58420018],\n",
       "       [ 0.        ,  0.        ,  0.        ],\n",
       "       [ 0.        ,  0.        ,  0.        ],\n",
       "       [ 0.        ,  0.        ,  0.        ],\n",
       "       [ 0.        ,  0.        ,  0.        ]])"
      ]
     },
     "execution_count": 20,
     "metadata": {},
     "output_type": "execute_result"
    }
   ],
   "source": [
    "#Matriz que almacena los valores de las alfas\n",
    "if(t_op!=5):\n",
    "    betas = np.zeros((n, n ))\n",
    "    for ren in range(0,n):\n",
    "        for col in range(0, n):\n",
    "            #Condicional para limitar matriz superior triangular\n",
    "            if((col - ren) >= 0):\n",
    "                betas[ren,col]=math.exp(-r * delta_t)*(payoffs[ren,col+1]-((payoffs[ren,col+1]-payoffs[ren+1,col+1])*arbol[ren,col+1])/(arbol[ren,col+1]-arbol[ren+1,col+1]))\n",
    "\n",
    "if(t_op==5 or t_op==6):\n",
    "    betas = np.zeros((2**n, n))\n",
    "    for col in range(0,n):\n",
    "    #Condicional para limitar matriz superior triangular\n",
    "        for ren in range(0, 2**col):\n",
    "                betas[ren,col]=math.exp(-r * delta_t)*(payoffs[2*ren,col+1]-((payoffs[2*ren,col+1]-payoffs[2*ren+1,col+1])*arbol_aux[2*ren,col+1])/(arbol_aux[2*ren,col+1]-arbol_aux[2*ren+1,col+1]))\n",
    "betas #Visualizamos"
   ]
  },
  {
   "cell_type": "markdown",
   "metadata": {},
   "source": [
    "# Ignorar esto de abajo"
   ]
  },
  {
   "cell_type": "code",
   "execution_count": 3,
   "metadata": {},
   "outputs": [
    {
     "name": "stdout",
     "output_type": "stream",
     "text": [
      "ERROR: unknown command \"-\"\n",
      "Note: you may need to restart the kernel to use updated packages.\n"
     ]
    }
   ],
   "source": [
    "pip- install itertools"
   ]
  },
  {
   "cell_type": "code",
   "execution_count": 4,
   "metadata": {},
   "outputs": [
    {
     "name": "stdout",
     "output_type": "stream",
     "text": [
      "\u001b[31mERROR: Could not find a version that satisfies the requirement itertools (from versions: none)\u001b[0m\n",
      "\u001b[31mERROR: No matching distribution found for itertools\u001b[0m\n",
      "Note: you may need to restart the kernel to use updated packages.\n"
     ]
    }
   ],
   "source": [
    "pip install itertools"
   ]
  },
  {
   "cell_type": "code",
   "execution_count": 5,
   "metadata": {},
   "outputs": [],
   "source": [
    "import itertools"
   ]
  },
  {
   "cell_type": "code",
   "execution_count": 105,
   "metadata": {},
   "outputs": [
    {
     "data": {
      "text/plain": [
       "[('u', 'u', 'u'),\n",
       " ('u', 'u', 'd'),\n",
       " ('u', 'd', 'u'),\n",
       " ('u', 'd', 'd'),\n",
       " ('d', 'u', 'u'),\n",
       " ('d', 'u', 'd'),\n",
       " ('d', 'd', 'u'),\n",
       " ('d', 'd', 'd')]"
      ]
     },
     "execution_count": 105,
     "metadata": {},
     "output_type": "execute_result"
    }
   ],
   "source": [
    "a=list(itertools.product(['u','d'],repeat=3))\n",
    "a"
   ]
  },
  {
   "cell_type": "code",
   "execution_count": 106,
   "metadata": {},
   "outputs": [
    {
     "data": {
      "text/plain": [
       "['u', 'u', 'u']"
      ]
     },
     "execution_count": 106,
     "metadata": {},
     "output_type": "execute_result"
    }
   ],
   "source": [
    "list(a[0])"
   ]
  },
  {
   "cell_type": "code",
   "execution_count": 107,
   "metadata": {},
   "outputs": [
    {
     "data": {
      "text/plain": [
       "'u'"
      ]
     },
     "execution_count": 107,
     "metadata": {},
     "output_type": "execute_result"
    }
   ],
   "source": [
    "a[0][0]"
   ]
  },
  {
   "cell_type": "code",
   "execution_count": 108,
   "metadata": {},
   "outputs": [
    {
     "data": {
      "text/plain": [
       "('u', 'u', 'u')"
      ]
     },
     "execution_count": 108,
     "metadata": {},
     "output_type": "execute_result"
    }
   ],
   "source": [
    "u=a[0]\n",
    "u"
   ]
  },
  {
   "cell_type": "code",
   "execution_count": 110,
   "metadata": {},
   "outputs": [
    {
     "data": {
      "text/plain": [
       "('u', 'u')"
      ]
     },
     "execution_count": 110,
     "metadata": {},
     "output_type": "execute_result"
    }
   ],
   "source": [
    "u=u[:(len(u)-1)]\n",
    "u"
   ]
  },
  {
   "cell_type": "code",
   "execution_count": 16,
   "metadata": {},
   "outputs": [
    {
     "data": {
      "text/plain": [
       "array([[0., 0., 0., 0.],\n",
       "       [0., 0., 0., 0.]])"
      ]
     },
     "execution_count": 16,
     "metadata": {},
     "output_type": "execute_result"
    }
   ],
   "source": [
    "np.zeros((2,2**2))"
   ]
  },
  {
   "cell_type": "code",
   "execution_count": 23,
   "metadata": {},
   "outputs": [
    {
     "name": "stdout",
     "output_type": "stream",
     "text": [
      "0\n",
      "1\n"
     ]
    }
   ],
   "source": [
    "for i in range(0,2):\n",
    "    print(i)"
   ]
  },
  {
   "cell_type": "code",
   "execution_count": 34,
   "metadata": {},
   "outputs": [],
   "source": [
    "a=[[0,['u','d']]]"
   ]
  },
  {
   "cell_type": "code",
   "execution_count": 35,
   "metadata": {},
   "outputs": [
    {
     "data": {
      "text/plain": [
       "[[0, ['u', 'd']]]"
      ]
     },
     "execution_count": 35,
     "metadata": {},
     "output_type": "execute_result"
    }
   ],
   "source": [
    "a"
   ]
  },
  {
   "cell_type": "code",
   "execution_count": 9,
   "metadata": {},
   "outputs": [
    {
     "data": {
      "text/plain": [
       "1"
      ]
     },
     "execution_count": 9,
     "metadata": {},
     "output_type": "execute_result"
    }
   ],
   "source": [
    "up_down=list(itertools.product(['u','d'],repeat=1))\n",
    "len(up_down[0])"
   ]
  },
  {
   "cell_type": "code",
   "execution_count": 3,
   "metadata": {},
   "outputs": [
    {
     "name": "stdout",
     "output_type": "stream",
     "text": [
      "True\n"
     ]
    }
   ],
   "source": [
    "print(6==5 or 6==6)"
   ]
  },
  {
   "cell_type": "code",
   "execution_count": null,
   "metadata": {},
   "outputs": [],
   "source": []
  }
 ],
 "metadata": {
  "kernelspec": {
   "display_name": "Python 3",
   "language": "python",
   "name": "python3"
  },
  "language_info": {
   "codemirror_mode": {
    "name": "ipython",
    "version": 3
   },
   "file_extension": ".py",
   "mimetype": "text/x-python",
   "name": "python",
   "nbconvert_exporter": "python",
   "pygments_lexer": "ipython3",
   "version": "3.8.5"
  },
  "metadata": {
   "interpreter": {
    "hash": "7812ea015bdcee6f23a998adcdd2ef97c151c0c241b7b7070987d9313e41299d"
   }
  }
 },
 "nbformat": 4,
 "nbformat_minor": 4
}
