{
 "cells": [
  {
   "cell_type": "code",
   "execution_count": 2,
   "metadata": {},
   "outputs": [],
   "source": [
    "#Bibliotecas a importar\n",
    "import numpy as np\n",
    "import math as math\n",
    "import itertools"
   ]
  },
  {
   "cell_type": "markdown",
   "metadata": {},
   "source": [
    "### Sesión 4: Valuación de Opciones en tiempo discreto"
   ]
  },
  {
   "cell_type": "code",
   "execution_count": 67,
   "metadata": {},
   "outputs": [],
   "source": [
    "#t_op: Tipo de opcion\n",
    "# 1: Opción europea tipo call\n",
    "# 2: Opción europea tipo put\n",
    "# 3: Opción digital tipo call\n",
    "# 4: Opción digital tipo put\n",
    "# 5: Opción asiática\n",
    "# 6: Opción lookback\n",
    "# 7: Opción Barrera Up&Out\n",
    "# 8: Opción Barrera Up&In\n",
    "# 9: Opción Americana call\n",
    "# 10: Opción Americana put\n",
    "t_op = 10\n",
    "T = 1 #Tiempo de vigencia de la opción (en años)\n",
    "r = 0.056 #tasa anual libre de riesgo\n",
    "k = 5 #Precio strike. Funciona como el salto en el caso de las digitales\n",
    "S_0 = 4 #Precio del subyacente a t=0\n",
    "n = 2 #Particiones del árbol\n",
    "sigma= 0 #Volatilidad. Si es diferente a 0 calculamos u y d como en el caso contínuo\n",
    "reb = 2 #Rebate\n",
    "b = 5 #Barrera\n",
    "u = 2 #Factor de aumento en el precio\n",
    "d = 0.5 #Factor de disminución de precio"
   ]
  },
  {
   "cell_type": "markdown",
   "metadata": {},
   "source": [
    "# Probabilidad en la medida libre de riesgo"
   ]
  },
  {
   "cell_type": "code",
   "execution_count": 68,
   "metadata": {},
   "outputs": [],
   "source": [
    "delta_t = T / n\n",
    "if (sigma!=0):\n",
    "    u=math.exp((r-(sigma**2)/(2))*delta_t+sigma*math.sqrt(delta_t))\n",
    "    d=math.exp((r-(sigma**2)/(2))*delta_t-sigma*math.sqrt(delta_t))\n",
    "p = (math.exp(r * delta_t) - d) / (u - d) #Probabilidad de aumento en el precio"
   ]
  },
  {
   "cell_type": "markdown",
   "metadata": {},
   "source": [
    "## Construcción del árbol"
   ]
  },
  {
   "cell_type": "markdown",
   "metadata": {},
   "source": [
    "### Subyacente"
   ]
  },
  {
   "cell_type": "markdown",
   "metadata": {},
   "source": [
    "Valor en el primer paso"
   ]
  },
  {
   "cell_type": "code",
   "execution_count": 70,
   "metadata": {},
   "outputs": [
    {
     "data": {
      "text/plain": [
       "array([[4., 0., 0.],\n",
       "       [0., 0., 0.],\n",
       "       [0., 0., 0.]])"
      ]
     },
     "execution_count": 70,
     "metadata": {},
     "output_type": "execute_result"
    }
   ],
   "source": [
    "#Matriz que almacena los valores del subyacente\n",
    "arbol = np.zeros((n + 1, n + 1))\n",
    "#El primer valor de la matriz es el subyacente a precio en t=0\n",
    "arbol[0,0] = S_0\n",
    "arbol #Visualziamos"
   ]
  },
  {
   "cell_type": "markdown",
   "metadata": {},
   "source": [
    "Valor del subyacente en el resto de los pasos"
   ]
  },
  {
   "cell_type": "code",
   "execution_count": 71,
   "metadata": {},
   "outputs": [
    {
     "data": {
      "text/plain": [
       "array([[ 4.,  8., 16.],\n",
       "       [ 0.,  2.,  4.],\n",
       "       [ 0.,  0.,  1.]])"
      ]
     },
     "execution_count": 71,
     "metadata": {},
     "output_type": "execute_result"
    }
   ],
   "source": [
    "#For para llenar los valores de la matriz\n",
    "for col in range(1, n +1):\n",
    "    for ren in range(0, n +1):\n",
    "        #Condicional para limitar matriz superior triangular\n",
    "        if((col - ren) >= 0):\n",
    "            arbol[ren, col] = S_0 *(( u ** (col - ren)) * (d ** (ren)))\n",
    "arbol #Visualizamos"
   ]
  },
  {
   "cell_type": "code",
   "execution_count": 72,
   "metadata": {},
   "outputs": [],
   "source": [
    "if(t_op==5 or t_op==6 or t_op==7 or t_op==8):\n",
    "    arbol_aux=np.zeros((2**n, n+1))\n",
    "    for col in range(0,n+1):\n",
    "        if(col==0):\n",
    "            arbol_aux[0,0]=S_0\n",
    "        else:\n",
    "            up_down=list(itertools.product(['u','d'],repeat=col))\n",
    "            for ren in range(0,2**col):\n",
    "                bajas=0\n",
    "                pos=up_down[ren]\n",
    "                for letter in pos:\n",
    "                    if (letter=='d'):\n",
    "                        bajas=bajas+1\n",
    "                arbol_aux[ren,col]=S_0*(u**(col-bajas))*d**(bajas)"
   ]
  },
  {
   "cell_type": "markdown",
   "metadata": {},
   "source": [
    "### Payoff"
   ]
  },
  {
   "cell_type": "markdown",
   "metadata": {},
   "source": [
    "Primer paso"
   ]
  },
  {
   "cell_type": "code",
   "execution_count": 73,
   "metadata": {},
   "outputs": [
    {
     "data": {
      "text/plain": [
       "array([[0., 0., 0.],\n",
       "       [0., 0., 1.],\n",
       "       [0., 0., 4.]])"
      ]
     },
     "execution_count": 73,
     "metadata": {},
     "output_type": "execute_result"
    }
   ],
   "source": [
    "#Matriz que almacena el valor de los payoffs\n",
    "payoffs = np.zeros((n+1, n+1))\n",
    "#Sobreescribimos la última columna de la matriz de PAYOFSS\n",
    "#IMPORTANTE: Agregar condicional para el caso del put (este es el caso particular del call)\n",
    "if (t_op==1 or t_op==9):\n",
    "    for ren in range(0, n+1):\n",
    "        payoffs[ren, n] = max(arbol[ren, n] - k, 0)\n",
    "elif (t_op==2 or t_op==10):\n",
    "    for ren in range(0, n+1):\n",
    "        payoffs[ren, n] = max(k-arbol[ren, n] , 0)\n",
    "elif t_op==3:\n",
    "    for ren in range(0, n+1):\n",
    "        if (arbol[ren, n] > S_0):\n",
    "            payoffs[ren, n] = k\n",
    "        else:\n",
    "            payoffs[ren, n] = 0\n",
    "elif t_op==4:\n",
    "    for ren in range(0, n+1):\n",
    "        if (arbol[ren, n] < S_0):\n",
    "            payoffs[ren, n] = k\n",
    "        else:\n",
    "            payoffs[ren, n] = 0\n",
    "elif t_op==5:\n",
    "    payoffs=np.zeros((2**n, n+1))\n",
    "    up_down=list(itertools.product(['u','d'],repeat=n))\n",
    "    for ren in range(0,2**n):\n",
    "        pos=up_down[ren]\n",
    "        suma=S_0\n",
    "        bajas=0\n",
    "        for i in range(0,n):\n",
    "            if(pos[i]=='d'):\n",
    "                bajas=bajas+1\n",
    "            suma=suma+arbol[bajas,(i+1)]\n",
    "        payoffs[ren,n]=max((suma/(n+1))-k,0)\n",
    "elif t_op==6:\n",
    "    payoffs=np.zeros((2**n, n+1))\n",
    "    up_down=list(itertools.product(['u','d'],repeat=n))\n",
    "    for ren in range(0,2**n):\n",
    "        pos=up_down[ren]\n",
    "        valores=np.zeros(n+1)\n",
    "        valores[0]=S_0\n",
    "        bajas=0\n",
    "        for i in range(0,n):\n",
    "            if(pos[i]=='d'):\n",
    "                bajas=bajas+1\n",
    "            valores[i+1]=arbol[bajas,(i+1)]\n",
    "        payoffs[ren,n]=max(valores)\n",
    "elif t_op==7:\n",
    "    payoffs=np.zeros((2**n, n+1))\n",
    "    up_down=list(itertools.product(['u','d'],repeat=n))\n",
    "    for ren in range(0,2**n):\n",
    "        pos=up_down[ren]\n",
    "        valores=np.zeros(n+1)\n",
    "        valores[0]=S_0\n",
    "        bajas=0\n",
    "        for i in range(0,n):\n",
    "            if(pos[i]=='d'):\n",
    "                bajas=bajas+1\n",
    "            valores[i+1]=arbol[bajas,(i+1)]\n",
    "        if(max(valores)>=b):\n",
    "            payoffs[ren,n]=reb\n",
    "        else:\n",
    "            payoffs[ren,n]=max(arbol_aux[ren, n] - k, 0)\n",
    "elif t_op==8:\n",
    "    payoffs=np.zeros((2**n, n+1))\n",
    "    up_down=list(itertools.product(['u','d'],repeat=n))\n",
    "    for ren in range(0,2**n):\n",
    "        pos=up_down[ren]\n",
    "        valores=np.zeros(n+1)\n",
    "        valores[0]=S_0\n",
    "        bajas=0\n",
    "        for i in range(0,n):\n",
    "            if(pos[i]=='d'):\n",
    "                bajas=bajas+1\n",
    "            valores[i+1]=arbol[bajas,(i+1)]\n",
    "        if(max(valores)<=b):\n",
    "            payoffs[ren,n]=reb\n",
    "        else:\n",
    "            payoffs[ren,n]=max(k-arbol_aux[ren, n], 0)\n",
    "payoffs #Visualizamos"
   ]
  },
  {
   "cell_type": "markdown",
   "metadata": {},
   "source": [
    "Valuamos backwards"
   ]
  },
  {
   "cell_type": "code",
   "execution_count": 76,
   "metadata": {},
   "outputs": [
    {
     "data": {
      "text/plain": [
       "array([[1.69496733, 0.48619418, 0.        ],\n",
       "       [0.        , 3.        , 1.        ],\n",
       "       [0.        , 0.        , 4.        ]])"
      ]
     },
     "execution_count": 76,
     "metadata": {},
     "output_type": "execute_result"
    }
   ],
   "source": [
    "#Sobreescribimos matriz de payoffs mediante el método iterativo\n",
    "if(t_op!=5):\n",
    "    for i in range(1, n + 1):\n",
    "        col = n - i\n",
    "        for j in range(0, col +1):\n",
    "            payoffs[j, col] = math.exp(-r * delta_t) * (p * payoffs[j, col + 1] + (1 - p)*payoffs[j +1, col +1])\n",
    "\n",
    "if(t_op==5 or t_op==6 or t_op==7 or t_op==8):\n",
    "    for i in range(1, n+1):\n",
    "        col = n - i\n",
    "        for j in range(0, 2**col):\n",
    "            payoffs[j, col] = math.exp(-r * delta_t) * (p * payoffs[2*j, col + 1] + (1 - p)*payoffs[2*j +1, col +1])\n",
    "if(t_op==9):\n",
    "    for i in range(1, n + 1):\n",
    "        col = n - i\n",
    "        for j in range(0, col +1):\n",
    "            payoffs[j, col] = max(arbol[j,col]-k,math.exp(-r * delta_t) * (p * payoffs[j, col + 1] + (1 - p)*payoffs[j +1, col +1]))\n",
    "if(t_op==10):\n",
    "    for i in range(1, n + 1):\n",
    "        col = n - i\n",
    "        for j in range(0, col +1):\n",
    "            payoffs[j, col] = max(k-arbol[j,col],math.exp(-r * delta_t) * (p * payoffs[j, col + 1] + (1 - p)*payoffs[j +1, col +1]))\n",
    "payoffs #visualizamos"
   ]
  },
  {
   "cell_type": "markdown",
   "metadata": {},
   "source": [
    "## Valor de la opción"
   ]
  },
  {
   "cell_type": "code",
   "execution_count": 60,
   "metadata": {},
   "outputs": [
    {
     "data": {
      "text/plain": [
       "0.5423118291444479"
      ]
     },
     "execution_count": 60,
     "metadata": {},
     "output_type": "execute_result"
    }
   ],
   "source": [
    "payoffs[0,0]"
   ]
  },
  {
   "cell_type": "markdown",
   "metadata": {},
   "source": [
    "## Composición del portafolio"
   ]
  },
  {
   "cell_type": "markdown",
   "metadata": {},
   "source": [
    "# Alfas"
   ]
  },
  {
   "cell_type": "code",
   "execution_count": 77,
   "metadata": {},
   "outputs": [
    {
     "data": {
      "text/plain": [
       "array([[-0.41896764, -0.08333333],\n",
       "       [ 0.        , -1.        ]])"
      ]
     },
     "execution_count": 77,
     "metadata": {},
     "output_type": "execute_result"
    }
   ],
   "source": [
    "#Matriz que almacena los valores de las alfas\n",
    "alfas = np.zeros((n, n ))\n",
    "if(t_op!=5):\n",
    "    for ren in range(0,n):\n",
    "        for col in range(0, n):\n",
    "            #Condicional para limitar matriz superior triangular\n",
    "            if((col - ren) >= 0):\n",
    "                alfas[ren,col]=(payoffs[ren,col+1]-payoffs[ren+1,col+1])/(arbol[ren,col+1]-arbol[ren+1,col+1])\n",
    "if(t_op==5 or t_op==6 or t_op==7 or t_op==8):\n",
    "    alfas = np.zeros((2**n, n))\n",
    "    for col in range(0,n):\n",
    "    #Condicional para limitar matriz superior triangular\n",
    "        for ren in range(0, 2**col):\n",
    "            alfas[ren,col]=(payoffs[2*ren,col+1]-payoffs[2*ren+1,col+1])/(arbol_aux[2*ren,col+1]-arbol_aux[2*ren+1,col+1])\n",
    "alfas #Visualizamos"
   ]
  },
  {
   "cell_type": "markdown",
   "metadata": {},
   "source": [
    "# Betas"
   ]
  },
  {
   "cell_type": "code",
   "execution_count": 62,
   "metadata": {},
   "outputs": [
    {
     "data": {
      "text/plain": [
       "array([[-2.82372016, -5.37049175],\n",
       "       [ 0.        , -0.43614692],\n",
       "       [ 0.        ,  0.        ],\n",
       "       [ 0.        ,  0.        ]])"
      ]
     },
     "execution_count": 62,
     "metadata": {},
     "output_type": "execute_result"
    }
   ],
   "source": [
    "#Matriz que almacena los valores de las alfas\n",
    "if(t_op!=5):\n",
    "    betas = np.zeros((n, n ))\n",
    "    for ren in range(0,n):\n",
    "        for col in range(0, n):\n",
    "            #Condicional para limitar matriz superior triangular\n",
    "            if((col - ren) >= 0):\n",
    "                betas[ren,col]=math.exp(-r * delta_t)*(payoffs[ren,col+1]-((payoffs[ren,col+1]-payoffs[ren+1,col+1])*arbol[ren,col+1])/(arbol[ren,col+1]-arbol[ren+1,col+1]))\n",
    "\n",
    "if(t_op==5 or t_op==6 or t_op==7 or t_op==8):\n",
    "    betas = np.zeros((2**n, n))\n",
    "    for col in range(0,n):\n",
    "    #Condicional para limitar matriz superior triangular\n",
    "        for ren in range(0, 2**col):\n",
    "                betas[ren,col]=math.exp(-r * delta_t)*(payoffs[2*ren,col+1]-((payoffs[2*ren,col+1]-payoffs[2*ren+1,col+1])*arbol_aux[2*ren,col+1])/(arbol_aux[2*ren,col+1]-arbol_aux[2*ren+1,col+1]))\n",
    "betas #Visualizamos"
   ]
  }
 ],
 "metadata": {
  "kernelspec": {
   "display_name": "Python 3",
   "language": "python",
   "name": "python3"
  },
  "language_info": {
   "codemirror_mode": {
    "name": "ipython",
    "version": 3
   },
   "file_extension": ".py",
   "mimetype": "text/x-python",
   "name": "python",
   "nbconvert_exporter": "python",
   "pygments_lexer": "ipython3",
   "version": "3.8.5"
  },
  "metadata": {
   "interpreter": {
    "hash": "7812ea015bdcee6f23a998adcdd2ef97c151c0c241b7b7070987d9313e41299d"
   }
  }
 },
 "nbformat": 4,
 "nbformat_minor": 4
}
